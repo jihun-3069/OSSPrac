{
 "cells": [
  {
   "cell_type": "code",
   "execution_count": null,
   "id": "2170026e",
   "metadata": {},
   "outputs": [
    {
     "name": "stdout",
     "output_type": "stream",
     "text": [
      "<출력>\n",
      "이름 : 김지훈\n",
      "학번 : 2021112411\n",
      "학과 : 산업시스템공학과\n"
     ]
    }
   ],
   "source": [
    "a=input(\"이름을 입력하세요: \")\n",
    "b=input(\"학번을 입력하세요: \")\n",
    "c=input(\"학과를 입력하세요: \")\n",
    "\n",
    "print(\"<출력>..\")\n",
    "print(\"이름 : {}\".format(a))\n",
    "print(\"학번 : {}\".format(b))\n",
    "print(\"학과 : {}\".format(c))"
   ]
  },
  {
   "cell_type": "code",
   "execution_count": null,
   "id": "85a2748e",
   "metadata": {},
   "outputs": [],
   "source": []
  }
 ],
 "metadata": {
  "kernelspec": {
   "display_name": "base",
   "language": "python",
   "name": "python3"
  },
  "language_info": {
   "codemirror_mode": {
    "name": "ipython",
    "version": 3
   },
   "file_extension": ".py",
   "mimetype": "text/x-python",
   "name": "python",
   "nbconvert_exporter": "python",
   "pygments_lexer": "ipython3",
   "version": "3.13.5"
  }
 },
 "nbformat": 4,
 "nbformat_minor": 5
}
